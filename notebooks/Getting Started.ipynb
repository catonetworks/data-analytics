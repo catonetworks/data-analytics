{
 "cells": [
  {
   "cell_type": "markdown",
   "id": "8e2cb118-5cfc-4509-ac86-2609880e3fef",
   "metadata": {},
   "source": [
    "# Getting Started\n",
    "\n",
    "## API authentication\n",
    "\n",
    "API calls are authenticated by an account ID (which is not really secret), an API key (which definitely should be kept secret) and the key's role (Viewer or Editor). Storing the key directly within an API script is a very bad idea, so a common way to make the key available to a script without encoding it inside the script is to create an environment variable in which to hold the key, and then have the script read the key from the environment variable at run time.\n",
    "\n",
    "Henceforth all the notebooks in this repo will use the following code to load an API key from an environment variable called \"CATO_API_KEY\". If you don't know how to set up and manage environment variables on your platform of choice, now is a good time to learn. If for whatever reason you're unwilling or unable to do this right now, you should uncomment the \"THIS IS A BAD IDEA\" line, and paste your key directly into the notebook."
   ]
  },
  {
   "cell_type": "code",
   "execution_count": 1,
   "id": "0c8a0fd5-3300-470c-9f94-bb8af8aa5430",
   "metadata": {},
   "outputs": [
    {
     "name": "stdout",
     "output_type": "stream",
     "text": [
      "Successfully loaded API key.\n"
     ]
    }
   ],
   "source": [
    "import os\n",
    "CATO_API_KEY = os.environ.get(\"CATO_API_KEY\", None)\n",
    "\n",
    "#\n",
    "# THIS IS A BAD IDEA\n",
    "#\n",
    "#CATO_API_KEY = \"PASTE_KEY_HERE\"\n",
    "\n",
    "if CATO_API_KEY is not None:\n",
    "    print(\"Successfully loaded API key.\")\n",
    "else:\n",
    "    print(\"PROBLEM: couldn't load a key from the environment.\")"
   ]
  },
  {
   "cell_type": "markdown",
   "id": "aae5af0c-5ac2-41c3-a12a-ae39eee80c0b",
   "metadata": {},
   "source": [
    "The account ID is visible in the Cato Management Application in the address bar, and on the **Administration / General Info** page, and is safe to hard-code into your scripts, although it can also be stored as an environment variable. From now on, all notebooks will include it as a hard-coded parameter which you replace with your own ID:"
   ]
  },
  {
   "cell_type": "code",
   "execution_count": 2,
   "id": "556e207f-1726-497b-93dd-fbd3cd9417e4",
   "metadata": {},
   "outputs": [],
   "source": [
    "#\n",
    "# Replace the 10434 with your own account ID\n",
    "#\n",
    "CATO_ACCOUNT_ID = 10434"
   ]
  },
  {
   "cell_type": "markdown",
   "id": "cec4f8e4-6422-4d08-8138-b550dc857e42",
   "metadata": {},
   "source": [
    "## Making Cato API calls\n",
    "\n",
    "The Cato API is GraphQL with a single URL for all customers, https://api.catonetworks.com/api/v1/graphql2. Each call consists of three elements:\n",
    "\n",
    "* The operation name, which is a single string.\n",
    "* A set of variables, which in Python is usually constructed as a dictionary. For simple calls the dictionary might only have one element; for more complex calls it can be nested to multiple levels.\n",
    "* A query string in GraphQL's \"Looks a bit like JSON but isn't really\" format.\n",
    "\n",
    "It is possible to interpolate the variable values directly into the query string, in which case no separate variables component is required, and for developers who are new to GraphQL, this can look like a simple and attractive option. It is, however, worth learning how to use parameterised queries with separate variables as data analytics usually requires multiple queries, and using parameters makes the job much easier. The three elements are supplied in the POST body, like this:\n",
    "```\n",
    "{\"operationName\":\"operation name string\", \"variables\":{the variable dictionary}, \"query\":\"query string\"}\n",
    "```\n",
    "The request needs two mandatory headers and one optional header:\n",
    "* The API key is supplied as the value for the x-api-key header.\n",
    "* The Content-Type must be \"application/json\".\n",
    "* The optional header is to enable compression. \n",
    "\n",
    "Compression is particularly important when doing data analytics with Cato because Cato data, especially events, tend to be extremely compressible (up to 95%) so enabling compression results in much faster API calls and much less data transferred over the network. \n",
    "\n",
    "Many Cato customers use the **requests** module to make HTTP calls with Python. For these examples we will instead use the urllib module which ships with Python, to avoid having to install another third party import. There is no reason not to use requests in production, but occasionally we work with customers who are trying to run Python in locked-down and/or headless environments where installing third party modules can be problematic, so it can be useful to know that there is an alternative to fall back on.\n",
    "\n",
    "Putting all of this together, one of the simplest API calls which can be made is accountSnapshot with only the account ID field in the response. This is a useful \"ping\" to check that everything is working, and that we can make API calls with a recognisable output. For this example we will not ask for compression, but for later notebooks where we are using a separate module for making API calls, compression will always be enabled.\n"
   ]
  },
  {
   "cell_type": "code",
   "execution_count": 3,
   "id": "2936b34b-b78f-4d07-b195-fd58944b64e4",
   "metadata": {},
   "outputs": [
    {
     "name": "stdout",
     "output_type": "stream",
     "text": [
      "{'data': {'accountSnapshot': {'id': '10434'}}}\n"
     ]
    }
   ],
   "source": [
    "import json\n",
    "import ssl\n",
    "import urllib.parse\n",
    "import urllib.request\n",
    "\n",
    "headers = {\n",
    "    \"x-api-key\": CATO_API_KEY,\n",
    "    \"Content-Type\": \"application/json\"\n",
    "}\n",
    "\n",
    "body = {\n",
    "    \"operationName\": \"accountSnapshot\",\n",
    "    \"variables\": {\"accountID\":CATO_ACCOUNT_ID},\n",
    "    \"query\": '''\n",
    "query accountSnapshot($accountID:ID!) {\n",
    "    accountSnapshot(accountID:$accountID) {\n",
    "        id\n",
    "    }\n",
    "}'''\n",
    "}\n",
    "\n",
    "request = urllib.request.Request(url='https://api.catonetworks.com/api/v1/graphql2', \n",
    "                                 data=json.dumps(body).encode(\"ascii\"),\n",
    "                                 headers=headers)\n",
    "response = urllib.request.urlopen(request, context=ssl._create_unverified_context())\n",
    "\n",
    "print(json.loads(response.read().decode(\"utf-8\",\"replace\")))"
   ]
  },
  {
   "cell_type": "markdown",
   "id": "7c114694-fffa-4596-b1cf-01b42e3369a6",
   "metadata": {},
   "source": [
    "If that worked, you should see a line similar to:\n",
    "```\n",
    "{'data': {'accountSnapshot': {'id': '10434'}}}\n",
    "```"
   ]
  },
  {
   "cell_type": "markdown",
   "id": "9d101652-a8d0-45e8-ace3-7a5aa40ab95d",
   "metadata": {},
   "source": [
    "Note the use of the ssl unverified context, which disables TLS inspection, in order to provide the best possible chance of the test query succeeding in this demo. In a production environment you might want to modify this line to make requests with TLS inspection enabled, and configure the infrastructure to support this (i.e. import any inspection certificates being used by legitimate inspection engines, or configure TLS bypass for Cato API requests).\n",
    "\n",
    "Subsequent notebooks will import a locally-defined module which encapsulates the functionality needed to make API calls, together with more advanced features such as compression and error detection, in a single, easy-to-use object:"
   ]
  },
  {
   "cell_type": "code",
   "execution_count": 4,
   "id": "4b394261-32e1-4bab-a9fd-05fb2bf3a3e8",
   "metadata": {},
   "outputs": [
    {
     "name": "stdout",
     "output_type": "stream",
     "text": [
      "True {'data': {'accountSnapshot': {'id': '10434'}}}\n"
     ]
    }
   ],
   "source": [
    "from cato import API\n",
    "\n",
    "# Reuse the ID and key from the previous example\n",
    "C = API(CATO_API_KEY)\n",
    "variables = {\"accountID\":CATO_ACCOUNT_ID}\n",
    "query = '''\n",
    "query accountSnapshot($accountID:ID!) {\n",
    "    accountSnapshot(accountID:$accountID) {\n",
    "        id\n",
    "    }\n",
    "}'''\n",
    "success, result = C.send(\"accountSnapshot\", variables, query)\n",
    "print(success, result)"
   ]
  },
  {
   "cell_type": "markdown",
   "id": "541b54ea-1c4e-4c98-b65a-d4a4f5199bea",
   "metadata": {},
   "source": [
    "> Certificate validation with Python and the standard library can be tricky. Python doesn't always load the system's set of trusted CA certificates. The first example above gets around this by disabling certificate validation, which is not a good idea. The cato.API module uses the Python certifi module to load a curated set of CA certificates. If neither of these approaches work for you, the third party **requests** module is often better able to load the system CA certificates and may be a more suitable alternative for making Cato API requests using Python."
   ]
  }
 ],
 "metadata": {
  "kernelspec": {
   "display_name": "Python 3 (ipykernel)",
   "language": "python",
   "name": "python3"
  },
  "language_info": {
   "codemirror_mode": {
    "name": "ipython",
    "version": 3
   },
   "file_extension": ".py",
   "mimetype": "text/x-python",
   "name": "python",
   "nbconvert_exporter": "python",
   "pygments_lexer": "ipython3",
   "version": "3.12.2"
  }
 },
 "nbformat": 4,
 "nbformat_minor": 5
}
