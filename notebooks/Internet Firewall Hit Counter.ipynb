{
 "cells": [
  {
   "cell_type": "markdown",
   "id": "15f89758-7df7-49fe-9f2b-43db5ca5028a",
   "metadata": {},
   "source": [
    "## Internet Firewall Hit Counter ##\n",
    "\n",
    "This demonstrates a DIY hit counter for Internet Firewall rules, using [Gradio](https://www.gradio.app/) to create the user interface. If Gradio not part of your existing Python environment you will need to install it using pip, together with all other prerequisite modules.\n",
    "\n",
    "The hit counter uses two different Cato API calls:\n",
    "1. [InternetFirewall policy](https://api.catonetworks.com/documentation/#query-policy.internetFirewall.policy) to retrieve a list of firewall rules.\n",
    "2. [events](https://api.catonetworks.com/documentation/#query-events) to retrieve firewall rule hit counts.\n",
    "\n",
    "There are issues with this method which can affect the accuracy of the result:\n",
    "* There is a limit to the number of key:value pairs which will be fetched in a single events call, so if the number of firewall rules exceeds the limit, not all firewall rules will be fetched. Fortunately the limit at time of writing is 5000. It is unlikely that any single Cato account will have more than 5000 Internet Firewall rules.\n",
    "* Only rules which have an action to log an event will be counted. Rules which don't log an event will still appear in the rules, but with a zero count.\n",
    "\n",
    "### Preparation\n",
    "First let's import the modules we need:"
   ]
  },
  {
   "cell_type": "code",
   "execution_count": null,
   "id": "4410260f-3845-459b-9540-34038f27c5d5",
   "metadata": {},
   "outputs": [],
   "source": [
    "import csv\n",
    "import json\n",
    "import os\n",
    "import random\n",
    "from collections import defaultdict\n",
    "\n",
    "import gradio as gr\n",
    "import pandas as pd\n",
    "\n",
    "#\n",
    "# Helper module \n",
    "# https://github.com/catonetworks/data-analytics/blob/main/notebooks/cato.py\n",
    "#\n",
    "from cato import API"
   ]
  },
  {
   "cell_type": "markdown",
   "id": "33571f24-232e-4bb8-9f39-bd32e8408a02",
   "metadata": {},
   "source": [
    "### Making the first API call - InternetFirewall policy ###\n",
    "We need a function which makes the call, and returns a list of Internet Firewall rule names and their position as a dictionary of position:rule name."
   ]
  },
  {
   "cell_type": "code",
   "execution_count": null,
   "id": "3b366d94-b4f3-4fe5-bf6f-1b09e5e8654c",
   "metadata": {},
   "outputs": [],
   "source": [
    "def get_rules(C, ID):\n",
    "\tquery = \"\"\"query InternetFirewall($accountId: ID!) {\n",
    "  policy(accountId: $accountId) {\n",
    "\tinternetFirewall {\n",
    "\t  policy {\n",
    "\t\trules {\n",
    "\t\t  rule {\n",
    "\t\t\tindex\n",
    "\t\t\tname\n",
    "\t\t  }\n",
    "\t\t}\n",
    "\t  }\n",
    "\t}\n",
    "  }\n",
    "}\"\"\"\n",
    "\tvariables = {\n",
    "\t\t\"accountId\":ID\n",
    "\t}\n",
    "\tsuccess, rules = C.send(\"InternetFirewall\", variables, query)\n",
    "\treturn {rule[\"rule\"][\"index\"]:rule[\"rule\"][\"name\"] for rule in rules[\"data\"][\"policy\"][\"internetFirewall\"][\"policy\"][\"rules\"]}"
   ]
  },
  {
   "cell_type": "markdown",
   "id": "049921c3-d5da-420f-88ec-24c1503a07f4",
   "metadata": {},
   "source": [
    "### Making the second API call - events ###\n",
    "\n",
    "We need another function to make the events call which retrieves the Internet Firewall events by rule name:"
   ]
  },
  {
   "cell_type": "code",
   "execution_count": null,
   "id": "e6aa7197-0f28-4a0a-a5c9-4ee51076f49c",
   "metadata": {},
   "outputs": [],
   "source": [
    "def get_hits(C, ID):\n",
    "    query = \"\"\"query events($accountID: ID!, $filters: [EventsFilter!]) {\n",
    "  events(\n",
    "\taccountID: $accountID\n",
    "\ttimeFrame: \"last.P7D\"\n",
    "\tfilters: $filters\n",
    "\tdimensions: [{fieldName: rule_name}]\n",
    "\tmeasures: [{fieldName: event_count, aggType: sum}]\n",
    "  ) {\n",
    "\trecords(limit: 250) {\n",
    "\t  fieldsMap\n",
    "\t}\n",
    "  }\n",
    "}\"\"\"\n",
    "    variables = {\n",
    "\t\t\"accountID\":ID,\n",
    "\t\t\"filters\": [{\"fieldName\": \"event_sub_type\", \"operator\": \"is\", \"values\": [\"Internet Firewall\"]}]\n",
    "\t}\n",
    "    success, hits = C.send(\"events\", variables, query)\n",
    "    rule_hits = defaultdict(lambda:0) \n",
    "    for record in hits[\"data\"][\"events\"][\"records\"]:\n",
    "        rule_hits[record[\"fieldsMap\"][\"rule_name\"]] = int(record[\"fieldsMap\"][\"event_count\"])\n",
    "    return rule_hits"
   ]
  },
  {
   "cell_type": "markdown",
   "id": "ea33cd64-9f77-46cb-af15-389409a5fc02",
   "metadata": {},
   "source": [
    "### Combining the rules and hits into a DataFrame ###\n",
    "\n",
    "The easiest way to publish the data will be as a table, and the easiest way to construct a table is to combine the rule data with the hits in a Pandas DataFrame:"
   ]
  },
  {
   "cell_type": "code",
   "execution_count": null,
   "id": "5a7071ac-77e7-465a-b07f-4ef80f4219aa",
   "metadata": {},
   "outputs": [],
   "source": [
    "def create_dataframe(rules, hits):\n",
    "    data = {\n",
    "        \"Position\":[],\n",
    "        \"Rule\":[],\n",
    "        \"Hits\": [],\n",
    "    }\n",
    "    for index, rule_name in rules.items():\n",
    "        data[\"Position\"].append(index)\n",
    "        data[\"Rule\"].append(rule_name)\n",
    "        data[\"Hits\"].append(hits[rule_name])\n",
    "    return pd.DataFrame(data)"
   ]
  },
  {
   "cell_type": "markdown",
   "id": "b60a9f65-3c5c-42f1-9a9f-50bb5ea35665",
   "metadata": {},
   "source": [
    "### Putting it all together as a Gradio app ###\n",
    "Finally we need a function to orchestrate the data pipeline, incorporate that as the click action for a Gradio button, and launch the app."
   ]
  },
  {
   "cell_type": "code",
   "execution_count": null,
   "id": "9594a081-1fdd-4f60-953f-ca86249854b1",
   "metadata": {},
   "outputs": [],
   "source": [
    "def go(ID, key):\n",
    "    #\n",
    "    # Create the API connection\n",
    "    #\n",
    "    C = API(key)    \n",
    "    #\n",
    "    # Get the firewall rules\n",
    "    #\n",
    "    rules = get_rules(C,ID)\n",
    "    #\n",
    "    # Get the hits\n",
    "    #\n",
    "    hits = get_hits(C,ID)\n",
    "    #\n",
    "    # Create dataframe\n",
    "    #\n",
    "    return create_dataframe(rules, hits)\n",
    "\n",
    "\n",
    "#\n",
    "# Gradio app UI\n",
    "#\n",
    "with gr.Blocks() as demo:\n",
    "    with gr.Column():\n",
    "        input_id = gr.Textbox(label=\"Cato Account ID\")\n",
    "        input_key = gr.Textbox(label=\"Cato API Key\", type=\"password\")\n",
    "        output = gr.Dataframe()\n",
    "        button = gr.Button(\"Load Firewall Rules\")\n",
    "        button.click(go, inputs=[input_id, input_key], outputs=[output])\n",
    "demo.launch()        "
   ]
  }
 ],
 "metadata": {
  "kernelspec": {
   "display_name": "Python 3 (ipykernel)",
   "language": "python",
   "name": "python3"
  },
  "language_info": {
   "codemirror_mode": {
    "name": "ipython",
    "version": 3
   },
   "file_extension": ".py",
   "mimetype": "text/x-python",
   "name": "python",
   "nbconvert_exporter": "python",
   "pygments_lexer": "ipython3",
   "version": "3.12.2"
  }
 },
 "nbformat": 4,
 "nbformat_minor": 5
}
