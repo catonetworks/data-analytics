{
 "cells": [
  {
   "cell_type": "markdown",
   "id": "15f89758-7df7-49fe-9f2b-43db5ca5028a",
   "metadata": {},
   "source": [
    "## World Map with Sites ##\n",
    "\n",
    "This demonstrates the plotting of sites and their connectivity status on a map of the world, using [Plotly Express](https://plotly.com/python/plotly-express/) to create the map, and [Gradio](https://www.gradio.app/) to create the user interface. If these are not part of your existing Python environment you will need to install them using pip, together with all other prerequisite modules.\n",
    "\n",
    "### Preparation\n",
    "First let's import the modules we need:"
   ]
  },
  {
   "cell_type": "code",
   "execution_count": null,
   "id": "4410260f-3845-459b-9540-34038f27c5d5",
   "metadata": {},
   "outputs": [],
   "source": [
    "import csv\n",
    "import json\n",
    "import os\n",
    "import random\n",
    "\n",
    "import gradio as gr\n",
    "import pandas as pd\n",
    "import plotly.express as px\n",
    "\n",
    "\n",
    "#\n",
    "# Helper module \n",
    "# https://github.com/catonetworks/data-analytics/blob/main/notebooks/cato.py\n",
    "#\n",
    "from cato import API"
   ]
  },
  {
   "cell_type": "markdown",
   "id": "33571f24-232e-4bb8-9f39-bd32e8408a02",
   "metadata": {},
   "source": [
    "### Making the accountSnapshot API call ###\n",
    "We're going to call accountSnapshot with just the fields we're interested in - the site names, connectivity status, configured country and tunnel interface public IP geolocation data:"
   ]
  },
  {
   "cell_type": "code",
   "execution_count": null,
   "id": "3b366d94-b4f3-4fe5-bf6f-1b09e5e8654c",
   "metadata": {},
   "outputs": [],
   "source": [
    "def accountSnapshot(C, ID):\n",
    "    variables = {\n",
    "        \"accountID\":ID\n",
    "    }\n",
    "    query = \"\"\"query accountSnapshot($accountID:ID!) {\n",
    "    \taccountSnapshot(accountID:$accountID) {\n",
    "    \t\tsites {\n",
    "    \t\t  connectivityStatus\n",
    "    \t\t  info {\n",
    "    \t\t\tname\n",
    "    \t\t\tcountryCode\n",
    "    \t\t  }\n",
    "    \t\t  devices {\n",
    "    \t\t\tinterfaces {\n",
    "    \t\t\t\ttunnelRemoteIPInfo {\n",
    "    \t\t\t\t\tlatitude\n",
    "    \t\t\t\t\tlongitude\n",
    "    \t\t\t\t}\n",
    "    \t\t\t}\n",
    "    \t\t  }\n",
    "    \t\t}\n",
    "    \t}\n",
    "    }\"\"\"\n",
    "    success,snapshot = C.send(\"accountSnapshot\", variables, query)\n",
    "    if not success:\n",
    "        print(f'ERROR calling accountSnapshot:{snapshot}')\n",
    "    return snapshot"
   ]
  },
  {
   "cell_type": "markdown",
   "id": "ea24ec2f-6d2f-420e-a6a7-824bee425cc9",
   "metadata": {},
   "source": [
    "### Loading the default country geolocation data ###\n",
    "We want to plot all sites on the map regardless of their connection status. Plotting disconnected sites in a way which is visually different from connected sites is probably useful to most CMA admins, but if a site is not connected then it doesn't have a public IP so we dont have geolocation data. How can we solve this?\n",
    "\n",
    "There are several strategies we could employ, such as checking for past connection history and using a prior IP, but this still leaves a problem for sites which have **never** connected, such as sites awaiting deployment. Something which all configured sites have regardless of connection status or history is a configured **country**, which we can use to provide an \"estimated\" geolocation. If we know the co-ordinates for a geographical centre of each country, we can place disconnected sites on or near this.\n",
    "\n",
    "We load latitude and longitude from a csv file:"
   ]
  },
  {
   "cell_type": "code",
   "execution_count": null,
   "id": "bb2409ff-dcb0-4b3e-8739-a2d764ff1b87",
   "metadata": {},
   "outputs": [],
   "source": [
    "COUNTRIES = []\n",
    "with open(\"cclatlong.csv\",\"r\") as file:\n",
    "    for row in csv.DictReader(file):\n",
    "        COUNTRIES.append(row)"
   ]
  },
  {
   "cell_type": "markdown",
   "id": "65010661-72a0-43b6-82bc-61152456f64c",
   "metadata": {},
   "source": [
    "### Loading the snapshot data into a Pandas dataframe ###\n",
    "To make it easy for Plotly Express to add site data to the map, we need a function which will take as input the accountSnapshot result, and return as output a Pandas dataframe. The function needs to use the connectivity status field to determine for each site whether we will use the connected tunnel IP co-ordinates, or the default \"centre of mass\" country co-ordinates:"
   ]
  },
  {
   "cell_type": "code",
   "execution_count": null,
   "id": "a37664b9-ed57-4edc-b00c-ae98eefaf28c",
   "metadata": {},
   "outputs": [],
   "source": [
    "def load_snapshot_into_dataframe(snapshot_data, country_data):\n",
    "    lats = []\n",
    "    longs = []\n",
    "    names = []\n",
    "    sizes = []\n",
    "    colours = []\n",
    "    for site in snapshot_data[\"data\"][\"accountSnapshot\"][\"sites\"]:\n",
    "        if site[\"connectivityStatus\"].lower() == \"connected\":\n",
    "            names.append(site[\"info\"][\"name\"])\n",
    "            lats.append(site[\"devices\"][0][\"interfaces\"][0][\"tunnelRemoteIPInfo\"][\"latitude\"])\n",
    "            longs.append(site[\"devices\"][0][\"interfaces\"][0][\"tunnelRemoteIPInfo\"][\"longitude\"])\n",
    "            colours.append(\"connected\")\n",
    "        else:\n",
    "            names.append(site[\"info\"][\"name\"])\n",
    "            lat = 0\n",
    "            longi = 0\n",
    "            for row in country_data:\n",
    "                if row[\"Alpha-2 code\"] == site[\"info\"][\"countryCode\"]:\n",
    "                    lat = float(row[\"Latitude (average)\"])\n",
    "                    longi = float(row[\"Longitude (average)\"])\n",
    "                    break\n",
    "            #\n",
    "            # Add some random noise to the co-ordinates to prevent multiple disconnected sites\n",
    "            # in the same country from ending up on exactly the same spot. The amount of noise\n",
    "            # is independent of the size of the country, which can result in disconnected dots\n",
    "            # being outside a smaller country's borders.\n",
    "            #\n",
    "            lats.append(lat + (random.randint(-10,+10)/5))\n",
    "            longs.append(longi + (random.randint(-10,+10)/5))\n",
    "            colours.append(\"disconnected\")\n",
    "        sizes.append(10)\n",
    "    data = {\n",
    "\t\t\"Latitude\": lats,\n",
    "\t\t\"Longitude\": longs,\n",
    "\t\t\"Site\": names,\n",
    "\t\t\"Size\": sizes,\n",
    "\t\t\"Colour\": colours,\n",
    "    }\n",
    "    return data"
   ]
  },
  {
   "cell_type": "markdown",
   "id": "e01e98bd-8ea5-46a1-9bc4-3fc5379e7381",
   "metadata": {},
   "source": [
    "### Creating the map figure ###\n",
    "\n",
    "We're getting close to the end now. All we need to do before we add the UI is to write a function which will turn the DataFrame into a map and return it. This function will be the heart of the Gradio app."
   ]
  },
  {
   "cell_type": "code",
   "execution_count": null,
   "id": "5af9e4f3-61d1-43de-aad5-f57212cf30c2",
   "metadata": {},
   "outputs": [],
   "source": [
    "def create_map(df): \n",
    "    fig = px.scatter_mapbox(\n",
    "        pd.DataFrame(df),\n",
    "        lat=\"Latitude\",\n",
    "        lon=\"Longitude\",\n",
    "        text=\"Site\",\n",
    "        zoom=2,\n",
    "        #height=700,\n",
    "        color_discrete_map={\"connected\":'green',\"disconnected\":'red'},\n",
    "        color=\"Colour\",\n",
    "        size=\"Size\",\n",
    "        size_max=10,\n",
    "        hover_data={\"Site\":True, \"Latitude\":False, \"Longitude\":False, \"Size\":False, \"Colour\":False},\n",
    "    )\n",
    "    fig.update_layout(mapbox_style=\"open-street-map\")\n",
    "    fig.update_layout(margin={\"r\": 0, \"t\": 0, \"l\": 0, \"b\": 0})\n",
    "    fig.update_layout(legend=dict(\n",
    "        orientation=\"h\",\n",
    "        yanchor=\"bottom\",\n",
    "        y=1.02,\n",
    "        xanchor=\"right\",\n",
    "        x=1\n",
    "    ))\n",
    "    return fig"
   ]
  },
  {
   "cell_type": "markdown",
   "id": "b60a9f65-3c5c-42f1-9a9f-50bb5ea35665",
   "metadata": {},
   "source": [
    "### Putting it all together as a Gradio app ###\n",
    "Finally we need a function to orchestrate the data pipeline, incorporate that as the click action for a Gradio button, and launch the app."
   ]
  },
  {
   "cell_type": "code",
   "execution_count": null,
   "id": "9594a081-1fdd-4f60-953f-ca86249854b1",
   "metadata": {},
   "outputs": [],
   "source": [
    "def go(ID, key):\n",
    "    #\n",
    "    # Create the API connection\n",
    "    #\n",
    "    C = API(key)    \n",
    "    #\n",
    "    # Get the snapshot data\n",
    "    #\n",
    "    snapshot = accountSnapshot(C,ID)\n",
    "    #\n",
    "    # Load it into a dataframe\n",
    "    #\n",
    "    df = load_snapshot_into_dataframe(snapshot, COUNTRIES)\n",
    "    #\n",
    "    # Create and return the map\n",
    "    #\n",
    "    return create_map(df)\n",
    "\n",
    "\n",
    "#\n",
    "# Gradio app UI\n",
    "#\n",
    "with gr.Blocks() as demo:\n",
    "    with gr.Column():\n",
    "        input_id = gr.Textbox(label=\"Cato Account ID\")\n",
    "        input_key = gr.Textbox(label=\"Cato API Key\", type=\"password\")\n",
    "        plot = gr.Plot()\n",
    "        button = gr.Button(\"Load Sites\")\n",
    "        button.click(go, inputs=[input_id, input_key], outputs=[plot])\n",
    "demo.launch()        "
   ]
  }
 ],
 "metadata": {
  "kernelspec": {
   "display_name": "Python 3 (ipykernel)",
   "language": "python",
   "name": "python3"
  },
  "language_info": {
   "codemirror_mode": {
    "name": "ipython",
    "version": 3
   },
   "file_extension": ".py",
   "mimetype": "text/x-python",
   "name": "python",
   "nbconvert_exporter": "python",
   "pygments_lexer": "ipython3",
   "version": "3.12.2"
  }
 },
 "nbformat": 4,
 "nbformat_minor": 5
}
