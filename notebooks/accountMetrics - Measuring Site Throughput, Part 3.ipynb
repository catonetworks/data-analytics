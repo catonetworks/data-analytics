{
 "cells": [
  {
   "attachments": {},
   "cell_type": "markdown",
   "id": "6aa31978-cea7-4e66-93a6-f7027ba04070",
   "metadata": {},
   "source": [
    "## accountMetrics - Measuring Site Throughput, Part 3\n",
    "\n",
    "One of the most commonly requested use cases for the [accountMetrics](https://api.catonetworks.com/documentation/#query-accountMetrics) API is for Cato customers to monitor throughput against licence, so we're going to combine the techniques in Part 1 and Part 2 with another query - the [licensingInfo](https://api.catonetworks.com/documentation/#definition-LicensingInfo) query.\n",
    "\n",
    "We'll be graphing this week's activity:\n",
    "\n",
    "![goal3.png](goal3.png)\n",
    "\n",
    "This example requires the Matplotlib third party package to be installed.\n",
    "\n",
    "### Initialising the connection to the API.\n",
    "Firstly, let's import the libraries we need and set up the connection to the API. As usual, we assuming that the account ID and API key are preloaded as environment variables and we use our helper module to encapsulate the business of making an API call (see the [Getting Started](Getting%20Started.ipynb) notebook if any of this is unclear):"
   ]
  },
  {
   "cell_type": "code",
   "execution_count": 1,
   "id": "d005e353-b78c-42e1-92ad-e6ce078313e2",
   "metadata": {},
   "outputs": [],
   "source": [
    "#\n",
    "# Initialise the API connection\n",
    "#\n",
    "import datetime\n",
    "import json\n",
    "import os\n",
    "import matplotlib.pyplot as plt\n",
    "from cato import API\n",
    "C = API(os.environ[\"CATO_API_KEY\"])"
   ]
  },
  {
   "cell_type": "markdown",
   "id": "68e3e86a-2a78-43ef-b041-8b167a45aac0",
   "metadata": {},
   "source": [
    "### The licensingInfo query\n",
    "\n",
    "The licensingInfo query is documented here: [https://api.catonetworks.com/documentation/#definition-LicensingInfo](https://api.catonetworks.com/documentation/#definition-LicensingInfo). This is the query we will send:"
   ]
  },
  {
   "cell_type": "code",
   "execution_count": 2,
   "id": "553ebedf-ea69-4138-8a61-8bc8f395e829",
   "metadata": {},
   "outputs": [
    {
     "name": "stdout",
     "output_type": "stream",
     "text": [
      "{\n",
      "  \"data\": {\n",
      "    \"licensing\": {\n",
      "      \"licensingInfo\": {\n",
      "        \"licenses\": [\n",
      "          {\n",
      "            \"sku\": \"CATO_CASB\",\n",
      "            \"description\": null,\n",
      "            \"status\": \"ACTIVE\",\n",
      "            \"startDate\": null,\n",
      "            \"expirationDate\": \"2100-12-31T00:00:00.000Z\",\n",
      "            \"plan\": \"COMMERCIAL\",\n",
      "            \"lastUpdated\": null\n",
      "          },\n",
      "          {\n",
      "            \"sku\": \"CATO_DATALAKE_6M\",\n",
      "            \"description\": null,\n",
      "            \"status\": \"ACTIVE\",\n",
      "            \"startDate\": null,\n",
      "            \"expirationDate\": \"2100-12-31T00:00:00.000Z\",\n",
      "            \"plan\": \"COMMERCIAL\",\n",
      "            \"lastUpdated\": null\n",
      "          },\n",
      "          {\n",
      "            \"sku\": \"CATO_DEM\",\n",
      "            \"description\": null,\n",
      "            \"status\": \"ACTIVE\",\n",
      "            \"startDate\": null,\n",
      "            \"expirationDate\": \"2100-12-31T00:00:00.000Z\",\n",
      "            \"plan\": \"COMMERCIAL\",\n",
      "            \"lastUpdated\": null\n",
      "          },\n",
      "          {\n",
      "            \"sku\": \"CATO_DLP\",\n",
      "            \"description\": null,\n",
      "        ...\n"
     ]
    }
   ],
   "source": [
    "#\n",
    "# Define the query\n",
    "#\n",
    "query = '''\n",
    "query licensingInfo ($accountId:ID!) {\n",
    "  licensing (accountId:$accountId) {\n",
    "\tlicensingInfo {\n",
    "\t  licenses {\n",
    "\t\tsku\n",
    "\t\tdescription\n",
    "\t\tstatus\n",
    "\t\tstartDate\n",
    "\t\texpirationDate\n",
    "\t\tplan\n",
    "\t\tlastUpdated\n",
    "\t\t... on SiteLicense {\n",
    "\t\t  siteLicenseGroup\n",
    "\t\t  regionality\n",
    "\t\t  siteLicenseType\n",
    "\t\t  total\n",
    "\t\t  site {id name}\n",
    "\t\t}\n",
    "\t\t... on PooledBandwidthLicense {\n",
    "\t\t  siteLicenseGroup\n",
    "\t\t  siteLicenseType\n",
    "\t\t  total\n",
    "\t\t  allocatedBandwidth\n",
    "\t\t  sites {\n",
    "\t\t\tsite {id name}\n",
    "\t\t\tallocatedBandwidth\n",
    "\t\t  }\n",
    "\t\t}\n",
    "\t  }\n",
    "\t}\n",
    "  }\n",
    "}'''\n",
    "\n",
    "\n",
    "#\n",
    "# Variables\n",
    "#\n",
    "variables = {\n",
    "    \"accountId\": os.environ[\"CATO_ACCOUNT_ID\"]\n",
    "}\n",
    "\n",
    "\n",
    "#\n",
    "# Send the query\n",
    "#\n",
    "success, result = C.send(\"licensingInfo\", variables, query)\n",
    "print(json.dumps(result, indent=2)[:1000],\"...\")"
   ]
  },
  {
   "cell_type": "markdown",
   "id": "9e01e179-5c72-4fe0-87d0-6e25c8848017",
   "metadata": {},
   "source": [
    "This gets us a list of licence SKUs assigned to the account. It is important to remember that a site could have multiple bandwidth licences (such as a China site with both global and regional licences) and there are multiple site bandwidth SKUs (four at time of writing). So in order to understand a site's total bandwidth allocation, we have to iterate through all SKUs looking for the site licence SKUs, then check those for our site ID. Pooled bandwidth SKUs have an array of sites; non-pooled SKUs will have a single site. SKUs are enumerated [here](https://api.catonetworks.com/documentation/#definition-LicenseSku); we are looking for:\n",
    "```\n",
    "CATO_PB\n",
    "CATO_PB_SSE\n",
    "CATO_SITE\n",
    "CATO_SSE_SITE\n",
    "```\n",
    "and the ID of the site we're interested in is 119167."
   ]
  },
  {
   "cell_type": "code",
   "execution_count": 3,
   "id": "f34da9d8-eafe-49ad-a730-cc5ed9ee0f5e",
   "metadata": {},
   "outputs": [
    {
     "name": "stdout",
     "output_type": "stream",
     "text": [
      "Total licence:100\n"
     ]
    }
   ],
   "source": [
    "#\n",
    "# Licence total counter\n",
    "#\n",
    "licence_total = 0\n",
    "site_id = \"119167\"\n",
    "\n",
    "#\n",
    "# Iterate over the SKUs\n",
    "#\n",
    "for license in result[\"data\"][\"licensing\"][\"licensingInfo\"][\"licenses\"]:\n",
    "\n",
    "    #\n",
    "    # Pooled bandwidth SKUs\n",
    "    #\n",
    "    if license[\"sku\"] in [\"CATO_PB\", \"CATO_PB_SSE\"]:\n",
    "        for site in license[\"sites\"]:\n",
    "            if site[\"site\"][\"id\"] == site_id:\n",
    "                licence_total += site[\"allocatedBandwidth\"]\n",
    "    #\n",
    "    # Non-pooled SKUs\n",
    "    #\n",
    "    if license[\"sku\"] in [\"CATO_SITE\", \"CATO_SSE_SITE\"]:\n",
    "        if license[\"site\"] is not None and license[\"site\"][\"id\"] == site_id:\n",
    "            licence_total += license[\"total\"]\n",
    "\n",
    "\n",
    "#\n",
    "# This is our total for the site\n",
    "#\n",
    "print(f'Total licence:{licence_total}')"
   ]
  },
  {
   "cell_type": "markdown",
   "id": "f3bdffd9-b95d-4616-bbbb-097e315a90bd",
   "metadata": {},
   "source": [
    "## Sending the accountMetrics query\n",
    "\n",
    "As in the previous example we are going to graph both the **bytesUpstreamMax** and **bytesDownstreamMax** timeseries':"
   ]
  },
  {
   "cell_type": "code",
   "execution_count": 4,
   "id": "ff7e061b-b844-4496-8acd-f117dca7bba8",
   "metadata": {},
   "outputs": [],
   "source": [
    "#\n",
    "# Define the query\n",
    "#\n",
    "query = '''\n",
    "query accountMetrics($buckets:Int $accountID:ID! $timeFrame:TimeFrame! $siteIDs:[ID!]) {\n",
    "    accountMetrics(accountID:$accountID timeFrame:$timeFrame groupInterfaces:false groupDevices:true) {\n",
    "        sites (siteIDs:$siteIDs) {\n",
    "            id\n",
    "            name\n",
    "            interfaces {\n",
    "                name\n",
    "                timeseries (labels:[bytesDownstreamMax, bytesUpstreamMax] buckets:$buckets) {\n",
    "                    label\n",
    "                    units\n",
    "                    data (perSecond:true)\n",
    "                }\n",
    "            }\n",
    "        }\n",
    "    }\n",
    "}\n",
    "'''\n",
    "\n",
    "\n",
    "#\n",
    "# Variables\n",
    "#\n",
    "variables = {\n",
    "    \"accountID\": os.environ[\"CATO_ACCOUNT_ID\"],\n",
    "    \"timeFrame\": \"utc.2025-02-{09/00:00:00--15/23:59:59}\",\n",
    "    \"buckets\": 168,\n",
    "    \"siteIDs\": [119167],\n",
    "}\n",
    "\n",
    "\n",
    "#\n",
    "# Send the query\n",
    "#\n",
    "success, result = C.send(\"accountMetrics\", variables, query)"
   ]
  },
  {
   "cell_type": "markdown",
   "id": "5679eb4a-5a69-4476-9c82-29434b03537a",
   "metadata": {},
   "source": [
    "### Process the accountMetrics response\n",
    "\n",
    "The difference now is that we will also add a timeseries to reflect the licence level. This will be a constant value."
   ]
  },
  {
   "cell_type": "code",
   "execution_count": 5,
   "id": "94f5897b-e8cc-4559-bccf-f068b78c637e",
   "metadata": {},
   "outputs": [],
   "source": [
    "#\n",
    "# Construct the X and Y timeseries\n",
    "#\n",
    "y_up = []\n",
    "y_down = []\n",
    "x_up = []\n",
    "x_down = []\n",
    "for timeseries in result[\"data\"][\"accountMetrics\"][\"sites\"][0][\"interfaces\"][0][\"timeseries\"]:\n",
    "    for timestamp, value in timeseries[\"data\"]:\n",
    "    \n",
    "        #\n",
    "        # Convert the timestamp to a Python datetime\n",
    "        #\n",
    "        datetime_timestamp = datetime.datetime.fromtimestamp(timestamp/1000)\n",
    "    \n",
    "        #\n",
    "        # Convert the value to megabits per second and add to x\n",
    "        #\n",
    "        bps = value*8/1_000_000\n",
    "        if timeseries[\"label\"] == \"bytesDownstreamMax\":\n",
    "            x_down.append(datetime_timestamp)\n",
    "            y_down.append(bps)\n",
    "        elif timeseries[\"label\"] == \"bytesUpstreamMax\":\n",
    "            x_up.append(datetime_timestamp)\n",
    "            y_up.append(bps)\n",
    "\n",
    "\n",
    "#\n",
    "# We assume that the up labels will also suffice for down\n",
    "#\n",
    "x_labels = [X.strftime(\"%d/%H:%M\") for X in x_up]\n",
    "\n",
    "\n",
    "#\n",
    "# Construct a licence timeseries\n",
    "#\n",
    "y_licence = [licence_total for X in x_labels]"
   ]
  },
  {
   "cell_type": "markdown",
   "id": "4c16b6e5-1c78-4533-8d12-31a83364e63c",
   "metadata": {},
   "source": [
    "## Create the graph\n",
    "\n",
    "We plot the up values in green, the down values in blue, and the licence in red:"
   ]
  },
  {
   "cell_type": "code",
   "execution_count": 6,
   "id": "8b764b74-242e-42ae-8830-4c56c7ef0e69",
   "metadata": {},
   "outputs": [
    {
     "data": {
      "image/png": "[encoded data removed]",
      "text/plain": [
       "<Figure size 640x480 with 1 Axes>"
      ]
     },
     "metadata": {},
     "output_type": "display_data"
    }
   ],
   "source": [
    "#\n",
    "# We only want several specific X-labels\n",
    "#\n",
    "xtick_locs = []\n",
    "xtick_labels = []\n",
    "for i,label in zip(x_up, x_labels):\n",
    "    if label[-5:] in [\"12:00\"]:\n",
    "        xtick_locs.append(i)\n",
    "        xtick_labels.append(label)\n",
    "\n",
    "#\n",
    "# Create and show the graph\n",
    "#\n",
    "plt.close(\"all\")\n",
    "plt.title(f\"Site:{result[\"data\"][\"accountMetrics\"][\"sites\"][0][\"name\"]}\")\n",
    "plt.ylabel(f\"Mbps\")\n",
    "plt.xticks(xtick_locs, xtick_labels)\n",
    "plt.grid()\n",
    "plt.plot(x_down, y_down, label=\"Downstream\", color=\"green\")\n",
    "plt.plot(x_up, y_up, label=\"Upstream\", color=\"blue\")\n",
    "plt.plot(x_up, y_licence, label=\"Licence\", color=\"red\")\n",
    "plt.legend()\n",
    "plt.show()"
   ]
  }
 ],
 "metadata": {
  "kernelspec": {
   "display_name": "Python 3 (ipykernel)",
   "language": "python",
   "name": "python3"
  },
  "language_info": {
   "codemirror_mode": {
    "name": "ipython",
    "version": 3
   },
   "file_extension": ".py",
   "mimetype": "text/x-python",
   "name": "python",
   "nbconvert_exporter": "python",
   "pygments_lexer": "ipython3",
   "version": "3.12.2"
  }
 },
 "nbformat": 4,
 "nbformat_minor": 5
}
