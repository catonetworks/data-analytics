{
 "cells": [
  {
   "cell_type": "markdown",
   "id": "f5350af8-2d08-41fd-a51f-befe8c953b77",
   "metadata": {},
   "source": [
    "## accountSnapshot - Overview\n",
    "\n",
    "**accountSnapshot** is at time of writing the second most popular API query called by Cato customers, and the number 1 query called by Cato resellers and MSPs. The main use cases for accountSnapshot are:\n",
    "* Retrieving site and user connectivity status, especially site and tunnel connectivity.\n",
    "* Retrieving site and user configuration.\n",
    "* Retrieving historical connection data, especially user device activity.\n",
    "\n",
    "It is one of the simplest API queries to call, requiring only the account ID, and an ideal candidate as a minimalistic example and \"ping\" to confirm that an API ID/key combination are working. It is also one of the largest queries in terms of the number of fields which can be included in the response.\n",
    "\n",
    "### Minimal example\n",
    "\n",
    "A simple query to \"ping\" the API and return the account ID looks like this:\n"
   ]
  },
  {
   "cell_type": "code",
   "execution_count": null,
   "id": "d501b1ed-c688-4f36-ba7a-10db225770b7",
   "metadata": {},
   "outputs": [],
   "source": [
    "query = \"\"\"\n",
    "query accountSnapshot($accountID:ID!) {\n",
    "    accountSnapshot(accountID:$accountID) {\n",
    "        id\n",
    "    }\n",
    "}\n",
    "\"\"\""
   ]
  },
  {
   "cell_type": "markdown",
   "id": "794c631e-4798-44a0-8486-2dc9bc870fad",
   "metadata": {},
   "source": [
    "Assuming that the account ID and API key are preloaded as environment variables and using our helper module (see the **Getting Started** notebook if this is unclear):"
   ]
  },
  {
   "cell_type": "code",
   "execution_count": null,
   "id": "1daa66a5-060a-476b-b68b-e64f872a3075",
   "metadata": {},
   "outputs": [],
   "source": [
    "import os\n",
    "from cato import API\n",
    "C = API(os.environ[\"CATO_API_KEY\"])\n",
    "variables = {\"accountID\": os.environ[\"CATO_ACCOUNT_ID\"]}\n",
    "success, result = C.send(\"accountSnapshot\", variables, query)\n",
    "print(result)"
   ]
  },
  {
   "cell_type": "markdown",
   "id": "d4d4fc3d-5789-4014-b3b2-cc10229aadf4",
   "metadata": {},
   "source": [
    "### Using accountSnapshot to return site connectivity status\n",
    "\n",
    "One of the most common accountSnapshot use cases is to retrieve site connectivity status:"
   ]
  },
  {
   "cell_type": "code",
   "execution_count": null,
   "id": "36ec9e49-491a-42f8-a919-6f631e9561bc",
   "metadata": {},
   "outputs": [],
   "source": [
    "query = \"\"\"\n",
    "query accountSnapshot($accountID:ID!) {\n",
    "    accountSnapshot(accountID:$accountID) {\n",
    "        sites {\n",
    "            id\n",
    "            info {\n",
    "                name\n",
    "            }\n",
    "            connectivityStatus\n",
    "        }\n",
    "    }\n",
    "}\n",
    "\"\"\"\n",
    "success, result = C.send(\"accountSnapshot\", variables, query)\n",
    "print(result)"
   ]
  },
  {
   "cell_type": "markdown",
   "id": "4e98053d-2b18-4d22-95d3-600fe684f8ab",
   "metadata": {},
   "source": [
    "### Filtering to only see data for particular sites ###\n",
    "By default **accountSnapshot** will return data for all configured sites in the account, but sometimes you might only want to request data for a subset of sites. This can be achieved using the siteIDs parameter at the site level. How do you know which IDs to use? There are several ways to map site names to site IDs, with the two most common being:\n",
    "* Use the [entityLookup](https://github.com/catonetworks/data-analytics/blob/main/notebooks/Entities%2C%20IDs%20and%20entityLookup.ipynb) query with type=site to fetch a list of site entities.\n",
    "* Use an accountSnapshot query similar to the one above to fetch sites with ID and name fields.\n",
    "\n",
    "Having done this, you can use this in the siteIDs input at the site level. If we're interested in two particular sites with IDs 9668 and 78508, we can update the query with the siteIDs variable and add the input to the query variables, like this:"
   ]
  },
  {
   "cell_type": "code",
   "execution_count": null,
   "id": "7fc22ba8-0b43-4ee5-bdf1-1b69f17d6b45",
   "metadata": {},
   "outputs": [],
   "source": [
    "query = \"\"\"query accountSnapshot($accountID:ID! $siteIDs:[ID!]) {\n",
    "    accountSnapshot(accountID:$accountID) {\n",
    "        id\n",
    "    \t\tsites (siteIDs:$siteIDs) {\n",
    "          id\n",
    "          info {\n",
    "            name\n",
    "          }\n",
    "          connectivityStatus\n",
    "        }\n",
    "    }\n",
    "}\"\"\"\n",
    "variables[\"siteIDs\"] = [9668, 78508]\n",
    "success, result = C.send(\"accountSnapshot\", variables, query)\n",
    "print(result)"
   ]
  },
  {
   "cell_type": "markdown",
   "id": "90112df6-f1cd-41c9-884c-23060c66d30d",
   "metadata": {},
   "source": [
    "### Users and accountSnapshot ###\n",
    "User connectivity status, connection history and device data can be retrieved with accountSnapshot in much the same way as site information, but with one key difference: by default, accountSnapshot will only return data for SDP users who are currently connected. For some use cases this is sufficient, but for others (such as wanting to know the date of last user connection) you probably want to see data for disconnected users as well. This is easy to do using the same principle as for sites - obtain a list of user IDs and submit them at the user level in the userIDs parameter."
   ]
  }
 ],
 "metadata": {
  "kernelspec": {
   "display_name": "Python 3 (ipykernel)",
   "language": "python",
   "name": "python3"
  },
  "language_info": {
   "codemirror_mode": {
    "name": "ipython",
    "version": 3
   },
   "file_extension": ".py",
   "mimetype": "text/x-python",
   "name": "python",
   "nbconvert_exporter": "python",
   "pygments_lexer": "ipython3",
   "version": "3.12.2"
  }
 },
 "nbformat": 4,
 "nbformat_minor": 5
}
